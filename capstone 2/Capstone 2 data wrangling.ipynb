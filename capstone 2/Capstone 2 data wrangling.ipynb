{
 "cells": [
  {
   "cell_type": "markdown",
   "id": "5071c491",
   "metadata": {},
   "source": [
    "Data wrangling"
   ]
  },
  {
   "cell_type": "markdown",
   "id": "1c06bbb7",
   "metadata": {},
   "source": [
    "# Problem statement\n",
    "The goal for this project is to predict sales next calendar year for different Walmart stores based on two past year sales. With knowing the sales in the future, the management team will be able to provide guidance for supply chains to properly manage the inventory and allocate their resources, react to a market change, this help prevent unnecessary money loss. This can also be used to set sales target for sales department\n",
    "success creterion: prediction accuracy rate is greater than 0.9\n",
    "scope of solutions: ??\n",
    "Sales can be reponsive to time factor(date, year, day, week, month, holiday) and space factor(store, dept, store type/size)"
   ]
  },
  {
   "cell_type": "markdown",
   "id": "b39d579d",
   "metadata": {},
   "source": [
    "# 1. Import data"
   ]
  },
  {
   "cell_type": "code",
   "execution_count": 1,
   "id": "73565c9a",
   "metadata": {},
   "outputs": [],
   "source": [
    "import pandas as pd\n",
    "import numpy as np\n",
    "import matplotlib.pyplot as plt\n",
    "\n",
    "import seaborn as sns\n",
    "import os\n",
    "from collections import Counter\n",
    "from datetime import datetime"
   ]
  },
  {
   "cell_type": "code",
   "execution_count": 2,
   "id": "77ef4f81",
   "metadata": {},
   "outputs": [],
   "source": [
    "stores = pd.read_csv(r'C:/New folder/capstone 2/data/stores.csv')"
   ]
  },
  {
   "cell_type": "code",
   "execution_count": 3,
   "id": "978556fd",
   "metadata": {},
   "outputs": [],
   "source": [
    "features=pd.read_csv(r'C:/New folder/capstone 2/data/features.csv')"
   ]
  },
  {
   "cell_type": "code",
   "execution_count": 4,
   "id": "64ca5760",
   "metadata": {},
   "outputs": [],
   "source": [
    "Weekly_sales=pd.read_csv(r'C:/New folder/capstone 2/data/train.csv')"
   ]
  },
  {
   "cell_type": "code",
   "execution_count": 5,
   "id": "2bbc0a3e",
   "metadata": {},
   "outputs": [
    {
     "name": "stdout",
     "output_type": "stream",
     "text": [
      "<class 'pandas.core.frame.DataFrame'>\n",
      "RangeIndex: 45 entries, 0 to 44\n",
      "Data columns (total 3 columns):\n",
      " #   Column  Non-Null Count  Dtype \n",
      "---  ------  --------------  ----- \n",
      " 0   Store   45 non-null     int64 \n",
      " 1   Type    45 non-null     object\n",
      " 2   Size    45 non-null     int64 \n",
      "dtypes: int64(2), object(1)\n",
      "memory usage: 1.2+ KB\n"
     ]
    }
   ],
   "source": [
    "stores.info()"
   ]
  },
  {
   "cell_type": "code",
   "execution_count": 6,
   "id": "a0cfd9a3",
   "metadata": {},
   "outputs": [
    {
     "name": "stdout",
     "output_type": "stream",
     "text": [
      "<class 'pandas.core.frame.DataFrame'>\n",
      "RangeIndex: 8190 entries, 0 to 8189\n",
      "Data columns (total 12 columns):\n",
      " #   Column        Non-Null Count  Dtype  \n",
      "---  ------        --------------  -----  \n",
      " 0   Store         8190 non-null   int64  \n",
      " 1   Date          8190 non-null   object \n",
      " 2   Temperature   8190 non-null   float64\n",
      " 3   Fuel_Price    8190 non-null   float64\n",
      " 4   MarkDown1     4032 non-null   float64\n",
      " 5   MarkDown2     2921 non-null   float64\n",
      " 6   MarkDown3     3613 non-null   float64\n",
      " 7   MarkDown4     3464 non-null   float64\n",
      " 8   MarkDown5     4050 non-null   float64\n",
      " 9   CPI           7605 non-null   float64\n",
      " 10  Unemployment  7605 non-null   float64\n",
      " 11  IsHoliday     8190 non-null   bool   \n",
      "dtypes: bool(1), float64(9), int64(1), object(1)\n",
      "memory usage: 712.0+ KB\n"
     ]
    }
   ],
   "source": [
    "features.info()"
   ]
  },
  {
   "cell_type": "code",
   "execution_count": 7,
   "id": "3a93fd11",
   "metadata": {},
   "outputs": [
    {
     "name": "stdout",
     "output_type": "stream",
     "text": [
      "<class 'pandas.core.frame.DataFrame'>\n",
      "RangeIndex: 421570 entries, 0 to 421569\n",
      "Data columns (total 5 columns):\n",
      " #   Column        Non-Null Count   Dtype  \n",
      "---  ------        --------------   -----  \n",
      " 0   Store         421570 non-null  int64  \n",
      " 1   Dept          421570 non-null  int64  \n",
      " 2   Date          421570 non-null  object \n",
      " 3   Weekly_Sales  421570 non-null  float64\n",
      " 4   IsHoliday     421570 non-null  bool   \n",
      "dtypes: bool(1), float64(1), int64(2), object(1)\n",
      "memory usage: 13.3+ MB\n"
     ]
    }
   ],
   "source": [
    "Weekly_sales.info()"
   ]
  },
  {
   "cell_type": "markdown",
   "id": "40d680b0",
   "metadata": {},
   "source": [
    "# 2. Exploring data"
   ]
  },
  {
   "cell_type": "markdown",
   "id": "cc085ba1",
   "metadata": {},
   "source": [
    "## 2.1 find missing values"
   ]
  },
  {
   "cell_type": "code",
   "execution_count": 8,
   "id": "8835bc58",
   "metadata": {},
   "outputs": [
    {
     "data": {
      "text/plain": [
       "Store           0\n",
       "Dept            0\n",
       "Date            0\n",
       "Weekly_Sales    0\n",
       "IsHoliday       0\n",
       "dtype: int64"
      ]
     },
     "execution_count": 8,
     "metadata": {},
     "output_type": "execute_result"
    }
   ],
   "source": [
    "Weekly_sales.isnull().sum()"
   ]
  },
  {
   "cell_type": "code",
   "execution_count": 9,
   "id": "f57f3371",
   "metadata": {},
   "outputs": [
    {
     "data": {
      "text/plain": [
       "Store              0\n",
       "Date               0\n",
       "Temperature        0\n",
       "Fuel_Price         0\n",
       "MarkDown1       4158\n",
       "MarkDown2       5269\n",
       "MarkDown3       4577\n",
       "MarkDown4       4726\n",
       "MarkDown5       4140\n",
       "CPI              585\n",
       "Unemployment     585\n",
       "IsHoliday          0\n",
       "dtype: int64"
      ]
     },
     "execution_count": 9,
     "metadata": {},
     "output_type": "execute_result"
    }
   ],
   "source": [
    "features.isnull().sum()"
   ]
  },
  {
   "cell_type": "code",
   "execution_count": 10,
   "id": "430f5ff5",
   "metadata": {},
   "outputs": [
    {
     "data": {
      "text/html": [
       "<div>\n",
       "<style scoped>\n",
       "    .dataframe tbody tr th:only-of-type {\n",
       "        vertical-align: middle;\n",
       "    }\n",
       "\n",
       "    .dataframe tbody tr th {\n",
       "        vertical-align: top;\n",
       "    }\n",
       "\n",
       "    .dataframe thead th {\n",
       "        text-align: right;\n",
       "    }\n",
       "</style>\n",
       "<table border=\"1\" class=\"dataframe\">\n",
       "  <thead>\n",
       "    <tr style=\"text-align: right;\">\n",
       "      <th></th>\n",
       "      <th>count</th>\n",
       "      <th>%</th>\n",
       "    </tr>\n",
       "  </thead>\n",
       "  <tbody>\n",
       "    <tr>\n",
       "      <th>Store</th>\n",
       "      <td>0</td>\n",
       "      <td>0.000000</td>\n",
       "    </tr>\n",
       "    <tr>\n",
       "      <th>Date</th>\n",
       "      <td>0</td>\n",
       "      <td>0.000000</td>\n",
       "    </tr>\n",
       "    <tr>\n",
       "      <th>Temperature</th>\n",
       "      <td>0</td>\n",
       "      <td>0.000000</td>\n",
       "    </tr>\n",
       "    <tr>\n",
       "      <th>Fuel_Price</th>\n",
       "      <td>0</td>\n",
       "      <td>0.000000</td>\n",
       "    </tr>\n",
       "    <tr>\n",
       "      <th>MarkDown1</th>\n",
       "      <td>4158</td>\n",
       "      <td>50.769231</td>\n",
       "    </tr>\n",
       "    <tr>\n",
       "      <th>MarkDown2</th>\n",
       "      <td>5269</td>\n",
       "      <td>64.334554</td>\n",
       "    </tr>\n",
       "    <tr>\n",
       "      <th>MarkDown3</th>\n",
       "      <td>4577</td>\n",
       "      <td>55.885226</td>\n",
       "    </tr>\n",
       "    <tr>\n",
       "      <th>MarkDown4</th>\n",
       "      <td>4726</td>\n",
       "      <td>57.704518</td>\n",
       "    </tr>\n",
       "    <tr>\n",
       "      <th>MarkDown5</th>\n",
       "      <td>4140</td>\n",
       "      <td>50.549451</td>\n",
       "    </tr>\n",
       "    <tr>\n",
       "      <th>CPI</th>\n",
       "      <td>585</td>\n",
       "      <td>7.142857</td>\n",
       "    </tr>\n",
       "    <tr>\n",
       "      <th>Unemployment</th>\n",
       "      <td>585</td>\n",
       "      <td>7.142857</td>\n",
       "    </tr>\n",
       "    <tr>\n",
       "      <th>IsHoliday</th>\n",
       "      <td>0</td>\n",
       "      <td>0.000000</td>\n",
       "    </tr>\n",
       "  </tbody>\n",
       "</table>\n",
       "</div>"
      ],
      "text/plain": [
       "              count          %\n",
       "Store             0   0.000000\n",
       "Date              0   0.000000\n",
       "Temperature       0   0.000000\n",
       "Fuel_Price        0   0.000000\n",
       "MarkDown1      4158  50.769231\n",
       "MarkDown2      5269  64.334554\n",
       "MarkDown3      4577  55.885226\n",
       "MarkDown4      4726  57.704518\n",
       "MarkDown5      4140  50.549451\n",
       "CPI             585   7.142857\n",
       "Unemployment    585   7.142857\n",
       "IsHoliday         0   0.000000"
      ]
     },
     "execution_count": 10,
     "metadata": {},
     "output_type": "execute_result"
    }
   ],
   "source": [
    "features_missing = pd.concat([features.isnull().sum(), 100 * features.isnull().mean()],axis=1)\n",
    "features_missing.columns=['count','%']\n",
    "features_missing\n"
   ]
  },
  {
   "cell_type": "code",
   "execution_count": 11,
   "id": "60df5ced",
   "metadata": {},
   "outputs": [
    {
     "data": {
      "text/plain": [
       "Store    0\n",
       "Type     0\n",
       "Size     0\n",
       "dtype: int64"
      ]
     },
     "execution_count": 11,
     "metadata": {},
     "output_type": "execute_result"
    }
   ],
   "source": [
    "stores.isnull().sum()"
   ]
  },
  {
   "cell_type": "markdown",
   "id": "51dede3e",
   "metadata": {},
   "source": [
    "# 2.2 Categorical features-spacial factors(store,dept,store type,etc)\n"
   ]
  },
  {
   "cell_type": "markdown",
   "id": "3e7c4aed",
   "metadata": {},
   "source": [
    "## 2.2.1 find duplicates "
   ]
  },
  {
   "cell_type": "code",
   "execution_count": 12,
   "id": "f04c86a8",
   "metadata": {},
   "outputs": [
    {
     "name": "stdout",
     "output_type": "stream",
     "text": [
      "1     1\n",
      "24    1\n",
      "26    1\n",
      "27    1\n",
      "28    1\n",
      "Name: Store, dtype: int64\n"
     ]
    }
   ],
   "source": [
    "#find duplicates in stores df\n",
    "#find number of stores, make sure there is no duplicates\n",
    "stores_count=stores['Store'].value_counts(sort=True)\n",
    "print(stores_count.head())\n",
    "#stores_count_dict=stores_count.to_dict\n",
    "#print(k for k, v in stores_count_dict.items() if v>1)\n",
    "\n"
   ]
  },
  {
   "cell_type": "code",
   "execution_count": 13,
   "id": "201b9415",
   "metadata": {},
   "outputs": [
    {
     "data": {
      "text/plain": [
       "dtype('int64')"
      ]
     },
     "execution_count": 13,
     "metadata": {},
     "output_type": "execute_result"
    }
   ],
   "source": [
    "Weekly_sales['Store'].dtype\n"
   ]
  },
  {
   "cell_type": "code",
   "execution_count": 14,
   "id": "e371f835",
   "metadata": {},
   "outputs": [
    {
     "data": {
      "text/plain": [
       "dtype('int64')"
      ]
     },
     "execution_count": 14,
     "metadata": {},
     "output_type": "execute_result"
    }
   ],
   "source": [
    "Weekly_sales['Dept'].dtype"
   ]
  },
  {
   "cell_type": "code",
   "execution_count": 15,
   "id": "715eb48c",
   "metadata": {},
   "outputs": [
    {
     "data": {
      "text/plain": [
       "dtype('O')"
      ]
     },
     "execution_count": 15,
     "metadata": {},
     "output_type": "execute_result"
    }
   ],
   "source": [
    "Weekly_sales['Date'].dtype"
   ]
  },
  {
   "cell_type": "code",
   "execution_count": 16,
   "id": "9a126d4d",
   "metadata": {},
   "outputs": [],
   "source": [
    "#(Weekly_sales['Store']) + ', ' +Weekly_sales['Dept'] + ', ' +Weekly_sales['Date']).value_counts(sort=True).head()"
   ]
  },
  {
   "cell_type": "code",
   "execution_count": 17,
   "id": "8a389430",
   "metadata": {},
   "outputs": [
    {
     "data": {
      "text/html": [
       "<div>\n",
       "<style scoped>\n",
       "    .dataframe tbody tr th:only-of-type {\n",
       "        vertical-align: middle;\n",
       "    }\n",
       "\n",
       "    .dataframe tbody tr th {\n",
       "        vertical-align: top;\n",
       "    }\n",
       "\n",
       "    .dataframe thead th {\n",
       "        text-align: right;\n",
       "    }\n",
       "</style>\n",
       "<table border=\"1\" class=\"dataframe\">\n",
       "  <thead>\n",
       "    <tr style=\"text-align: right;\">\n",
       "      <th></th>\n",
       "      <th>Store</th>\n",
       "      <th>Dept</th>\n",
       "      <th>Date</th>\n",
       "      <th>Weekly_Sales</th>\n",
       "      <th>IsHoliday</th>\n",
       "    </tr>\n",
       "  </thead>\n",
       "  <tbody>\n",
       "  </tbody>\n",
       "</table>\n",
       "</div>"
      ],
      "text/plain": [
       "Empty DataFrame\n",
       "Columns: [Store, Dept, Date, Weekly_Sales, IsHoliday]\n",
       "Index: []"
      ]
     },
     "execution_count": 17,
     "metadata": {},
     "output_type": "execute_result"
    }
   ],
   "source": [
    "#find duplicates in Weekly_sales df based on selected columns\n",
    "Weekly_sales[Weekly_sales.duplicated(subset=['Store','Dept','Date'], keep=False)]"
   ]
  },
  {
   "cell_type": "code",
   "execution_count": 18,
   "id": "1e506897",
   "metadata": {},
   "outputs": [
    {
     "data": {
      "text/html": [
       "<div>\n",
       "<style scoped>\n",
       "    .dataframe tbody tr th:only-of-type {\n",
       "        vertical-align: middle;\n",
       "    }\n",
       "\n",
       "    .dataframe tbody tr th {\n",
       "        vertical-align: top;\n",
       "    }\n",
       "\n",
       "    .dataframe thead th {\n",
       "        text-align: right;\n",
       "    }\n",
       "</style>\n",
       "<table border=\"1\" class=\"dataframe\">\n",
       "  <thead>\n",
       "    <tr style=\"text-align: right;\">\n",
       "      <th></th>\n",
       "      <th>Store</th>\n",
       "      <th>Date</th>\n",
       "      <th>Temperature</th>\n",
       "      <th>Fuel_Price</th>\n",
       "      <th>MarkDown1</th>\n",
       "      <th>MarkDown2</th>\n",
       "      <th>MarkDown3</th>\n",
       "      <th>MarkDown4</th>\n",
       "      <th>MarkDown5</th>\n",
       "      <th>CPI</th>\n",
       "      <th>Unemployment</th>\n",
       "      <th>IsHoliday</th>\n",
       "    </tr>\n",
       "  </thead>\n",
       "  <tbody>\n",
       "  </tbody>\n",
       "</table>\n",
       "</div>"
      ],
      "text/plain": [
       "Empty DataFrame\n",
       "Columns: [Store, Date, Temperature, Fuel_Price, MarkDown1, MarkDown2, MarkDown3, MarkDown4, MarkDown5, CPI, Unemployment, IsHoliday]\n",
       "Index: []"
      ]
     },
     "execution_count": 18,
     "metadata": {},
     "output_type": "execute_result"
    }
   ],
   "source": [
    "#find duplicates in features df based on selected columns\n",
    "features[features.duplicated(subset=['Store','Date'], keep=False)]"
   ]
  },
  {
   "cell_type": "markdown",
   "id": "7fd0de9f",
   "metadata": {},
   "source": [
    "no duplicates found in all three datasets"
   ]
  },
  {
   "cell_type": "markdown",
   "id": "62b530ca",
   "metadata": {},
   "source": [
    "## 2.2.2 \"categorical\" variables\n"
   ]
  },
  {
   "cell_type": "markdown",
   "id": "fc1b5c6b",
   "metadata": {},
   "source": [
    "even though store #, dept # are given in numbers, but they are considered as category features"
   ]
  },
  {
   "cell_type": "code",
   "execution_count": 19,
   "id": "018750bf",
   "metadata": {},
   "outputs": [
    {
     "data": {
      "text/html": [
       "<div>\n",
       "<style scoped>\n",
       "    .dataframe tbody tr th:only-of-type {\n",
       "        vertical-align: middle;\n",
       "    }\n",
       "\n",
       "    .dataframe tbody tr th {\n",
       "        vertical-align: top;\n",
       "    }\n",
       "\n",
       "    .dataframe thead th {\n",
       "        text-align: right;\n",
       "    }\n",
       "</style>\n",
       "<table border=\"1\" class=\"dataframe\">\n",
       "  <thead>\n",
       "    <tr style=\"text-align: right;\">\n",
       "      <th></th>\n",
       "      <th>Store</th>\n",
       "      <th>Dept</th>\n",
       "      <th>Date</th>\n",
       "      <th>Weekly_Sales</th>\n",
       "      <th>IsHoliday</th>\n",
       "    </tr>\n",
       "  </thead>\n",
       "  <tbody>\n",
       "    <tr>\n",
       "      <th>0</th>\n",
       "      <td>1</td>\n",
       "      <td>1</td>\n",
       "      <td>2010-02-05</td>\n",
       "      <td>24924.50</td>\n",
       "      <td>False</td>\n",
       "    </tr>\n",
       "    <tr>\n",
       "      <th>1</th>\n",
       "      <td>1</td>\n",
       "      <td>1</td>\n",
       "      <td>2010-02-12</td>\n",
       "      <td>46039.49</td>\n",
       "      <td>True</td>\n",
       "    </tr>\n",
       "    <tr>\n",
       "      <th>2</th>\n",
       "      <td>1</td>\n",
       "      <td>1</td>\n",
       "      <td>2010-02-19</td>\n",
       "      <td>41595.55</td>\n",
       "      <td>False</td>\n",
       "    </tr>\n",
       "    <tr>\n",
       "      <th>3</th>\n",
       "      <td>1</td>\n",
       "      <td>1</td>\n",
       "      <td>2010-02-26</td>\n",
       "      <td>19403.54</td>\n",
       "      <td>False</td>\n",
       "    </tr>\n",
       "    <tr>\n",
       "      <th>4</th>\n",
       "      <td>1</td>\n",
       "      <td>1</td>\n",
       "      <td>2010-03-05</td>\n",
       "      <td>21827.90</td>\n",
       "      <td>False</td>\n",
       "    </tr>\n",
       "  </tbody>\n",
       "</table>\n",
       "</div>"
      ],
      "text/plain": [
       "   Store  Dept        Date  Weekly_Sales  IsHoliday\n",
       "0      1     1  2010-02-05      24924.50      False\n",
       "1      1     1  2010-02-12      46039.49       True\n",
       "2      1     1  2010-02-19      41595.55      False\n",
       "3      1     1  2010-02-26      19403.54      False\n",
       "4      1     1  2010-03-05      21827.90      False"
      ]
     },
     "execution_count": 19,
     "metadata": {},
     "output_type": "execute_result"
    }
   ],
   "source": [
    "Weekly_sales.head()"
   ]
  },
  {
   "cell_type": "code",
   "execution_count": 20,
   "id": "dcfe4290",
   "metadata": {},
   "outputs": [
    {
     "name": "stdout",
     "output_type": "stream",
     "text": [
      "              Date\n",
      "0       2010-02-05\n",
      "1       2010-02-12\n",
      "2       2010-02-19\n",
      "3       2010-02-26\n",
      "4       2010-03-05\n",
      "...            ...\n",
      "421565  2012-09-28\n",
      "421566  2012-10-05\n",
      "421567  2012-10-12\n",
      "421568  2012-10-19\n",
      "421569  2012-10-26\n",
      "\n",
      "[421570 rows x 1 columns]\n"
     ]
    }
   ],
   "source": [
    "#Use `select_dtypes` method to select columns of dtype 'object'\n",
    "print(Weekly_sales.select_dtypes('object'))"
   ]
  },
  {
   "cell_type": "markdown",
   "id": "e9881c09",
   "metadata": {},
   "source": [
    "this method is not applicable for the datasets!\n",
    "the categorical features in three tables: stores-type, features-date, weekly_sales-department are not identified!!"
   ]
  },
  {
   "cell_type": "markdown",
   "id": "76f24531",
   "metadata": {},
   "source": [
    "#convert data type of int for col 'store' & 'Dept' to str\n",
    "store_dept=['Store','Dept']\n",
    "Weekly_sales[store_dept]=Weekly_sales[store_dept].astype(str)\n",
    "#Weekly_sales['Store']=Weekly_sales['Store'].apply(str)\n",
    "Weekly_sales\n"
   ]
  },
  {
   "cell_type": "markdown",
   "id": "1691891a",
   "metadata": {},
   "source": [
    "Weekly_sales_group_str=Weekly_sales.groupby(['Store','Dept']).size()\n",
    "\n",
    "Weekly_sales_group_str=Weekly_sales_group_str.to_frame()\n",
    "\n",
    "Weekly_sales_group_str\n",
    "\n",
    "\n"
   ]
  },
  {
   "cell_type": "markdown",
   "id": "a8b4863f",
   "metadata": {},
   "source": [
    "print(Weekly_sales.select_dtypes('object'))"
   ]
  },
  {
   "cell_type": "markdown",
   "id": "8d43af1e",
   "metadata": {},
   "source": [
    "features.head()"
   ]
  },
  {
   "cell_type": "markdown",
   "id": "08bff2bf",
   "metadata": {},
   "source": [
    "print(features.select_dtypes('object'))"
   ]
  },
  {
   "cell_type": "markdown",
   "id": "daa1e4e5",
   "metadata": {},
   "source": [
    "features['Store']=features['Store'].apply(str)\n",
    "features"
   ]
  },
  {
   "cell_type": "markdown",
   "id": "2178f2eb",
   "metadata": {},
   "source": [
    "stores.head()"
   ]
  },
  {
   "cell_type": "markdown",
   "id": "a222fe03",
   "metadata": {},
   "source": [
    "stores['Store']=features['Store'].apply(str)\n",
    "stores.head()"
   ]
  },
  {
   "cell_type": "markdown",
   "id": "4d142c62",
   "metadata": {},
   "source": [
    "## 2.2.3 Identify types of stores "
   ]
  },
  {
   "cell_type": "code",
   "execution_count": 21,
   "id": "eb7c5fc8",
   "metadata": {},
   "outputs": [
    {
     "data": {
      "text/plain": [
       "pandas.core.frame.DataFrame"
      ]
     },
     "execution_count": 21,
     "metadata": {},
     "output_type": "execute_result"
    }
   ],
   "source": [
    "# work on stores df\n",
    "#count # of stores for each type\n",
    "store_type=stores.groupby('Type').count()\n",
    "\n",
    "type(store_type)"
   ]
  },
  {
   "cell_type": "code",
   "execution_count": 22,
   "id": "016a3742",
   "metadata": {},
   "outputs": [
    {
     "data": {
      "text/html": [
       "<div>\n",
       "<style scoped>\n",
       "    .dataframe tbody tr th:only-of-type {\n",
       "        vertical-align: middle;\n",
       "    }\n",
       "\n",
       "    .dataframe tbody tr th {\n",
       "        vertical-align: top;\n",
       "    }\n",
       "\n",
       "    .dataframe thead th {\n",
       "        text-align: right;\n",
       "    }\n",
       "</style>\n",
       "<table border=\"1\" class=\"dataframe\">\n",
       "  <thead>\n",
       "    <tr style=\"text-align: right;\">\n",
       "      <th></th>\n",
       "      <th>Size</th>\n",
       "    </tr>\n",
       "    <tr>\n",
       "      <th>Type</th>\n",
       "      <th></th>\n",
       "    </tr>\n",
       "  </thead>\n",
       "  <tbody>\n",
       "    <tr>\n",
       "      <th>A</th>\n",
       "      <td>22</td>\n",
       "    </tr>\n",
       "    <tr>\n",
       "      <th>B</th>\n",
       "      <td>17</td>\n",
       "    </tr>\n",
       "    <tr>\n",
       "      <th>C</th>\n",
       "      <td>6</td>\n",
       "    </tr>\n",
       "  </tbody>\n",
       "</table>\n",
       "</div>"
      ],
      "text/plain": [
       "      Size\n",
       "Type      \n",
       "A       22\n",
       "B       17\n",
       "C        6"
      ]
     },
     "execution_count": 22,
     "metadata": {},
     "output_type": "execute_result"
    }
   ],
   "source": [
    "store_type.drop(['Store'], axis=1,inplace=True)\n",
    "\n",
    "store_type"
   ]
  },
  {
   "cell_type": "code",
   "execution_count": 23,
   "id": "8cc9edc3",
   "metadata": {},
   "outputs": [],
   "source": [
    "#store_types=stores.Type.value_counts()\n",
    "#store_types=store_types.to_frame()\n",
    "#store_types=store_types.reset_index()\n",
    "#store_types=store_types.rename(columns={'index':'type','Type':'counts'})\n",
    "#print(store_types.columns)\n"
   ]
  },
  {
   "cell_type": "code",
   "execution_count": 24,
   "id": "08b15173",
   "metadata": {},
   "outputs": [
    {
     "data": {
      "text/html": [
       "<div>\n",
       "<style scoped>\n",
       "    .dataframe tbody tr th:only-of-type {\n",
       "        vertical-align: middle;\n",
       "    }\n",
       "\n",
       "    .dataframe tbody tr th {\n",
       "        vertical-align: top;\n",
       "    }\n",
       "\n",
       "    .dataframe thead th {\n",
       "        text-align: right;\n",
       "    }\n",
       "</style>\n",
       "<table border=\"1\" class=\"dataframe\">\n",
       "  <thead>\n",
       "    <tr style=\"text-align: right;\">\n",
       "      <th></th>\n",
       "      <th>Type</th>\n",
       "      <th>counts</th>\n",
       "    </tr>\n",
       "  </thead>\n",
       "  <tbody>\n",
       "    <tr>\n",
       "      <th>0</th>\n",
       "      <td>A</td>\n",
       "      <td>22</td>\n",
       "    </tr>\n",
       "    <tr>\n",
       "      <th>1</th>\n",
       "      <td>B</td>\n",
       "      <td>17</td>\n",
       "    </tr>\n",
       "    <tr>\n",
       "      <th>2</th>\n",
       "      <td>C</td>\n",
       "      <td>6</td>\n",
       "    </tr>\n",
       "  </tbody>\n",
       "</table>\n",
       "</div>"
      ],
      "text/plain": [
       "  Type  counts\n",
       "0    A      22\n",
       "1    B      17\n",
       "2    C       6"
      ]
     },
     "execution_count": 24,
     "metadata": {},
     "output_type": "execute_result"
    }
   ],
   "source": [
    "#reset index for df and reame cols\n",
    "store_type.reset_index(inplace=True)\n",
    "store_type.rename(columns={'Size':'counts'},inplace=True)\n",
    "store_type\n"
   ]
  },
  {
   "cell_type": "code",
   "execution_count": 25,
   "id": "650c0566",
   "metadata": {},
   "outputs": [
    {
     "data": {
      "image/png": "[encoded data removed]",
      "text/plain": [
       "<Figure size 720x576 with 1 Axes>"
      ]
     },
     "metadata": {},
     "output_type": "display_data"
    }
   ],
   "source": [
    "#plot pie chart for store type distribution with defined size\n",
    "plt.figure(figsize=(10,8))\n",
    "\n",
    "#define colors, refer to https://www.statology.org/seaborn-pie-chart/\n",
    "colors = sns.color_palette('pastel')[0:3]  \n",
    "\n",
    "label = store_type.Type\n",
    "data = store_type.counts\n",
    "\n",
    "#define function to plot both ratio and number for each store type\n",
    "#https://stackoverflow.com/questions/6170246/how-do-i-use-matplotlib-autopct#:~:text=autopct%20enables%20you%20to%20display,set%20to%20the%20string%20'%25.\n",
    "def make_autopct(values):\n",
    "    def my_autopct(pct):\n",
    "        total = sum(values)\n",
    "        val = int(round(pct*total/100.0))\n",
    "        return '{p:.2f}%  ({v:d})'.format(p=pct,v=val)\n",
    "    return my_autopct\n",
    "\n",
    "plt.pie(data,labels=label,colors=colors,startangle = 90, autopct=make_autopct(data))\n",
    "plt.show()"
   ]
  },
  {
   "cell_type": "code",
   "execution_count": 26,
   "id": "1c6b0baf",
   "metadata": {},
   "outputs": [
    {
     "data": {
      "text/html": [
       "<div>\n",
       "<style scoped>\n",
       "    .dataframe tbody tr th:only-of-type {\n",
       "        vertical-align: middle;\n",
       "    }\n",
       "\n",
       "    .dataframe tbody tr th {\n",
       "        vertical-align: top;\n",
       "    }\n",
       "\n",
       "    .dataframe thead th {\n",
       "        text-align: right;\n",
       "    }\n",
       "</style>\n",
       "<table border=\"1\" class=\"dataframe\">\n",
       "  <thead>\n",
       "    <tr style=\"text-align: right;\">\n",
       "      <th></th>\n",
       "      <th>Type</th>\n",
       "      <th>Size</th>\n",
       "    </tr>\n",
       "  </thead>\n",
       "  <tbody>\n",
       "    <tr>\n",
       "      <th>0</th>\n",
       "      <td>A</td>\n",
       "      <td>177247.727273</td>\n",
       "    </tr>\n",
       "    <tr>\n",
       "      <th>1</th>\n",
       "      <td>B</td>\n",
       "      <td>101190.705882</td>\n",
       "    </tr>\n",
       "    <tr>\n",
       "      <th>2</th>\n",
       "      <td>C</td>\n",
       "      <td>40541.666667</td>\n",
       "    </tr>\n",
       "  </tbody>\n",
       "</table>\n",
       "</div>"
      ],
      "text/plain": [
       "  Type           Size\n",
       "0    A  177247.727273\n",
       "1    B  101190.705882\n",
       "2    C   40541.666667"
      ]
     },
     "execution_count": 26,
     "metadata": {},
     "output_type": "execute_result"
    }
   ],
   "source": [
    "# find mean size of stores by different types\n",
    "stores.groupby('Type',as_index=False)['Size'].mean()"
   ]
  },
  {
   "cell_type": "code",
   "execution_count": 27,
   "id": "e94dd4e6",
   "metadata": {},
   "outputs": [
    {
     "data": {
      "text/plain": [
       "<AxesSubplot:xlabel='Type', ylabel='Size'>"
      ]
     },
     "execution_count": 27,
     "metadata": {},
     "output_type": "execute_result"
    },
    {
     "data": {
      "image/png": "[encoded data removed]",
      "text/plain": [
       "<Figure size 432x288 with 1 Axes>"
      ]
     },
     "metadata": {
      "needs_background": "light"
     },
     "output_type": "display_data"
    }
   ],
   "source": [
    "#plot boxplot of store size based on different store type\n",
    "#sns.violinplot(x=\"Type\", y=\"Size\", data=stores); \n",
    "#https://hippocampus-garden.com/pandas_boxplot/\n",
    "\n",
    "#stores.groupby('Type').boxplot(column='Size')\n",
    "\n",
    "sns.boxplot(x=\"Type\", y=\"Size\", data=stores)\n"
   ]
  },
  {
   "cell_type": "markdown",
   "id": "8458181c",
   "metadata": {},
   "source": [
    "apparently, store type A has largest average size, store type C has smallest average size"
   ]
  },
  {
   "cell_type": "markdown",
   "id": "18d916dd",
   "metadata": {},
   "source": [
    "## 2.2.4 record counts for each store and department"
   ]
  },
  {
   "cell_type": "code",
   "execution_count": 28,
   "id": "390c0917",
   "metadata": {},
   "outputs": [
    {
     "data": {
      "text/html": [
       "<div>\n",
       "<style scoped>\n",
       "    .dataframe tbody tr th:only-of-type {\n",
       "        vertical-align: middle;\n",
       "    }\n",
       "\n",
       "    .dataframe tbody tr th {\n",
       "        vertical-align: top;\n",
       "    }\n",
       "\n",
       "    .dataframe thead th {\n",
       "        text-align: right;\n",
       "    }\n",
       "</style>\n",
       "<table border=\"1\" class=\"dataframe\">\n",
       "  <thead>\n",
       "    <tr style=\"text-align: right;\">\n",
       "      <th></th>\n",
       "      <th>Store</th>\n",
       "      <th>Dept</th>\n",
       "      <th>counts</th>\n",
       "    </tr>\n",
       "  </thead>\n",
       "  <tbody>\n",
       "    <tr>\n",
       "      <th>0</th>\n",
       "      <td>1</td>\n",
       "      <td>1</td>\n",
       "      <td>143</td>\n",
       "    </tr>\n",
       "    <tr>\n",
       "      <th>1</th>\n",
       "      <td>1</td>\n",
       "      <td>2</td>\n",
       "      <td>143</td>\n",
       "    </tr>\n",
       "    <tr>\n",
       "      <th>21</th>\n",
       "      <td>1</td>\n",
       "      <td>23</td>\n",
       "      <td>143</td>\n",
       "    </tr>\n",
       "    <tr>\n",
       "      <th>23</th>\n",
       "      <td>1</td>\n",
       "      <td>25</td>\n",
       "      <td>143</td>\n",
       "    </tr>\n",
       "    <tr>\n",
       "      <th>24</th>\n",
       "      <td>1</td>\n",
       "      <td>26</td>\n",
       "      <td>143</td>\n",
       "    </tr>\n",
       "    <tr>\n",
       "      <th>...</th>\n",
       "      <td>...</td>\n",
       "      <td>...</td>\n",
       "      <td>...</td>\n",
       "    </tr>\n",
       "    <tr>\n",
       "      <th>54</th>\n",
       "      <td>1</td>\n",
       "      <td>67</td>\n",
       "      <td>143</td>\n",
       "    </tr>\n",
       "    <tr>\n",
       "      <th>55</th>\n",
       "      <td>1</td>\n",
       "      <td>71</td>\n",
       "      <td>143</td>\n",
       "    </tr>\n",
       "    <tr>\n",
       "      <th>56</th>\n",
       "      <td>1</td>\n",
       "      <td>72</td>\n",
       "      <td>143</td>\n",
       "    </tr>\n",
       "    <tr>\n",
       "      <th>57</th>\n",
       "      <td>1</td>\n",
       "      <td>74</td>\n",
       "      <td>143</td>\n",
       "    </tr>\n",
       "    <tr>\n",
       "      <th>60</th>\n",
       "      <td>1</td>\n",
       "      <td>79</td>\n",
       "      <td>143</td>\n",
       "    </tr>\n",
       "  </tbody>\n",
       "</table>\n",
       "<p>67 rows × 3 columns</p>\n",
       "</div>"
      ],
      "text/plain": [
       "    Store  Dept  counts\n",
       "0       1     1     143\n",
       "1       1     2     143\n",
       "21      1    23     143\n",
       "23      1    25     143\n",
       "24      1    26     143\n",
       "..    ...   ...     ...\n",
       "54      1    67     143\n",
       "55      1    71     143\n",
       "56      1    72     143\n",
       "57      1    74     143\n",
       "60      1    79     143\n",
       "\n",
       "[67 rows x 3 columns]"
      ]
     },
     "execution_count": 28,
     "metadata": {},
     "output_type": "execute_result"
    }
   ],
   "source": [
    "#group the record by 'store' and 'dept' for weekly_sales df\n",
    "Weekly_sales_group=Weekly_sales.groupby(['Store','Dept']).size()\n",
    "Weekly_sales_group=Weekly_sales_group.to_frame()\n",
    "Weekly_sales_group.reset_index(inplace=True)\n",
    "Weekly_sales_group.rename(columns={0:'counts'},inplace=True)\n",
    "Weekly_sales_sort=Weekly_sales_group.sort_values('counts', ascending=False)\n",
    "Weekly_sales_sort[(Weekly_sales_sort.counts==143) & (Weekly_sales_sort.Store==1)]"
   ]
  },
  {
   "cell_type": "code",
   "execution_count": 29,
   "id": "3607f2cd",
   "metadata": {},
   "outputs": [
    {
     "data": {
      "text/html": [
       "<div>\n",
       "<style scoped>\n",
       "    .dataframe tbody tr th:only-of-type {\n",
       "        vertical-align: middle;\n",
       "    }\n",
       "\n",
       "    .dataframe tbody tr th {\n",
       "        vertical-align: top;\n",
       "    }\n",
       "\n",
       "    .dataframe thead th {\n",
       "        text-align: right;\n",
       "    }\n",
       "</style>\n",
       "<table border=\"1\" class=\"dataframe\">\n",
       "  <thead>\n",
       "    <tr style=\"text-align: right;\">\n",
       "      <th></th>\n",
       "      <th>store</th>\n",
       "      <th>count</th>\n",
       "    </tr>\n",
       "  </thead>\n",
       "  <tbody>\n",
       "    <tr>\n",
       "      <th>count</th>\n",
       "      <td>45.000000</td>\n",
       "      <td>45.000000</td>\n",
       "    </tr>\n",
       "    <tr>\n",
       "      <th>mean</th>\n",
       "      <td>23.000000</td>\n",
       "      <td>9368.222222</td>\n",
       "    </tr>\n",
       "    <tr>\n",
       "      <th>std</th>\n",
       "      <td>13.133926</td>\n",
       "      <td>1215.026672</td>\n",
       "    </tr>\n",
       "    <tr>\n",
       "      <th>min</th>\n",
       "      <td>1.000000</td>\n",
       "      <td>6222.000000</td>\n",
       "    </tr>\n",
       "    <tr>\n",
       "      <th>25%</th>\n",
       "      <td>12.000000</td>\n",
       "      <td>9443.000000</td>\n",
       "    </tr>\n",
       "    <tr>\n",
       "      <th>50%</th>\n",
       "      <td>23.000000</td>\n",
       "      <td>9864.000000</td>\n",
       "    </tr>\n",
       "    <tr>\n",
       "      <th>75%</th>\n",
       "      <td>34.000000</td>\n",
       "      <td>10148.000000</td>\n",
       "    </tr>\n",
       "    <tr>\n",
       "      <th>max</th>\n",
       "      <td>45.000000</td>\n",
       "      <td>10474.000000</td>\n",
       "    </tr>\n",
       "  </tbody>\n",
       "</table>\n",
       "</div>"
      ],
      "text/plain": [
       "           store         count\n",
       "count  45.000000     45.000000\n",
       "mean   23.000000   9368.222222\n",
       "std    13.133926   1215.026672\n",
       "min     1.000000   6222.000000\n",
       "25%    12.000000   9443.000000\n",
       "50%    23.000000   9864.000000\n",
       "75%    34.000000  10148.000000\n",
       "max    45.000000  10474.000000"
      ]
     },
     "execution_count": 29,
     "metadata": {},
     "output_type": "execute_result"
    }
   ],
   "source": [
    "#count records for each store\n",
    "store_rec=Weekly_sales.Store.value_counts(sort=True)\n",
    "store_rec=store_rec.to_frame()\n",
    "store_rec.reset_index(inplace=True)\n",
    "store_rec.rename(columns={'index':'store','Store':'count'},inplace=True)\n",
    "store_rec.describe()\n",
    "\n"
   ]
  },
  {
   "cell_type": "markdown",
   "id": "5e677c4b",
   "metadata": {},
   "source": [
    "stores 1-45, store #13 has the most records, which is 10474, store #36 has least records, which is 6222"
   ]
  },
  {
   "cell_type": "code",
   "execution_count": 30,
   "id": "a61ee998",
   "metadata": {},
   "outputs": [
    {
     "data": {
      "text/html": [
       "<div>\n",
       "<style scoped>\n",
       "    .dataframe tbody tr th:only-of-type {\n",
       "        vertical-align: middle;\n",
       "    }\n",
       "\n",
       "    .dataframe tbody tr th {\n",
       "        vertical-align: top;\n",
       "    }\n",
       "\n",
       "    .dataframe thead th {\n",
       "        text-align: right;\n",
       "    }\n",
       "</style>\n",
       "<table border=\"1\" class=\"dataframe\">\n",
       "  <thead>\n",
       "    <tr style=\"text-align: right;\">\n",
       "      <th></th>\n",
       "      <th>dept</th>\n",
       "      <th>count</th>\n",
       "    </tr>\n",
       "  </thead>\n",
       "  <tbody>\n",
       "    <tr>\n",
       "      <th>count</th>\n",
       "      <td>81.000000</td>\n",
       "      <td>81.000000</td>\n",
       "    </tr>\n",
       "    <tr>\n",
       "      <th>mean</th>\n",
       "      <td>46.061728</td>\n",
       "      <td>5204.567901</td>\n",
       "    </tr>\n",
       "    <tr>\n",
       "      <th>std</th>\n",
       "      <td>29.388070</td>\n",
       "      <td>1896.081459</td>\n",
       "    </tr>\n",
       "    <tr>\n",
       "      <th>min</th>\n",
       "      <td>1.000000</td>\n",
       "      <td>12.000000</td>\n",
       "    </tr>\n",
       "    <tr>\n",
       "      <th>25%</th>\n",
       "      <td>22.000000</td>\n",
       "      <td>5297.000000</td>\n",
       "    </tr>\n",
       "    <tr>\n",
       "      <th>50%</th>\n",
       "      <td>42.000000</td>\n",
       "      <td>5956.000000</td>\n",
       "    </tr>\n",
       "    <tr>\n",
       "      <th>75%</th>\n",
       "      <td>72.000000</td>\n",
       "      <td>6435.000000</td>\n",
       "    </tr>\n",
       "    <tr>\n",
       "      <th>max</th>\n",
       "      <td>99.000000</td>\n",
       "      <td>6435.000000</td>\n",
       "    </tr>\n",
       "  </tbody>\n",
       "</table>\n",
       "</div>"
      ],
      "text/plain": [
       "            dept        count\n",
       "count  81.000000    81.000000\n",
       "mean   46.061728  5204.567901\n",
       "std    29.388070  1896.081459\n",
       "min     1.000000    12.000000\n",
       "25%    22.000000  5297.000000\n",
       "50%    42.000000  5956.000000\n",
       "75%    72.000000  6435.000000\n",
       "max    99.000000  6435.000000"
      ]
     },
     "execution_count": 30,
     "metadata": {},
     "output_type": "execute_result"
    }
   ],
   "source": [
    "#count records for each dept\n",
    "dept_rec=Weekly_sales.Dept.value_counts(sort=True)\n",
    "dept_rec=dept_rec.to_frame()\n",
    "dept_rec.reset_index(inplace=True)\n",
    "dept_rec.rename(columns={'index':'dept','Dept':'count'},inplace=True)\n",
    "dept_rec.describe()\n"
   ]
  },
  {
   "cell_type": "markdown",
   "id": "4b3d8c8b",
   "metadata": {},
   "source": [
    "total depts are 81, 22 depts have most of the records-6435: 1-4, 7,8,10,13,14,16,21,38,40,46,67,79,81,82,90-92,95, dept #43 has least # of records-12"
   ]
  },
  {
   "cell_type": "code",
   "execution_count": 31,
   "id": "ec421bdc",
   "metadata": {},
   "outputs": [
    {
     "data": {
      "text/html": [
       "<div>\n",
       "<style scoped>\n",
       "    .dataframe tbody tr th:only-of-type {\n",
       "        vertical-align: middle;\n",
       "    }\n",
       "\n",
       "    .dataframe tbody tr th {\n",
       "        vertical-align: top;\n",
       "    }\n",
       "\n",
       "    .dataframe thead th {\n",
       "        text-align: right;\n",
       "    }\n",
       "</style>\n",
       "<table border=\"1\" class=\"dataframe\">\n",
       "  <thead>\n",
       "    <tr style=\"text-align: right;\">\n",
       "      <th></th>\n",
       "      <th>Store</th>\n",
       "      <th>Dept</th>\n",
       "      <th>counts</th>\n",
       "    </tr>\n",
       "  </thead>\n",
       "  <tbody>\n",
       "    <tr>\n",
       "      <th>211</th>\n",
       "      <td>3</td>\n",
       "      <td>78</td>\n",
       "      <td>1</td>\n",
       "    </tr>\n",
       "    <tr>\n",
       "      <th>216</th>\n",
       "      <td>3</td>\n",
       "      <td>83</td>\n",
       "      <td>1</td>\n",
       "    </tr>\n",
       "    <tr>\n",
       "      <th>264</th>\n",
       "      <td>4</td>\n",
       "      <td>39</td>\n",
       "      <td>1</td>\n",
       "    </tr>\n",
       "    <tr>\n",
       "      <th>362</th>\n",
       "      <td>5</td>\n",
       "      <td>78</td>\n",
       "      <td>1</td>\n",
       "    </tr>\n",
       "    <tr>\n",
       "      <th>512</th>\n",
       "      <td>7</td>\n",
       "      <td>78</td>\n",
       "      <td>1</td>\n",
       "    </tr>\n",
       "    <tr>\n",
       "      <th>529</th>\n",
       "      <td>7</td>\n",
       "      <td>99</td>\n",
       "      <td>1</td>\n",
       "    </tr>\n",
       "    <tr>\n",
       "      <th>738</th>\n",
       "      <td>10</td>\n",
       "      <td>77</td>\n",
       "      <td>1</td>\n",
       "    </tr>\n",
       "    <tr>\n",
       "      <th>908</th>\n",
       "      <td>12</td>\n",
       "      <td>99</td>\n",
       "      <td>1</td>\n",
       "    </tr>\n",
       "    <tr>\n",
       "      <th>949</th>\n",
       "      <td>13</td>\n",
       "      <td>43</td>\n",
       "      <td>1</td>\n",
       "    </tr>\n",
       "    <tr>\n",
       "      <th>969</th>\n",
       "      <td>13</td>\n",
       "      <td>77</td>\n",
       "      <td>1</td>\n",
       "    </tr>\n",
       "    <tr>\n",
       "      <th>1027</th>\n",
       "      <td>14</td>\n",
       "      <td>43</td>\n",
       "      <td>1</td>\n",
       "    </tr>\n",
       "    <tr>\n",
       "      <th>1100</th>\n",
       "      <td>15</td>\n",
       "      <td>37</td>\n",
       "      <td>1</td>\n",
       "    </tr>\n",
       "    <tr>\n",
       "      <th>1143</th>\n",
       "      <td>15</td>\n",
       "      <td>99</td>\n",
       "      <td>1</td>\n",
       "    </tr>\n",
       "    <tr>\n",
       "      <th>1219</th>\n",
       "      <td>16</td>\n",
       "      <td>99</td>\n",
       "      <td>1</td>\n",
       "    </tr>\n",
       "    <tr>\n",
       "      <th>1295</th>\n",
       "      <td>17</td>\n",
       "      <td>99</td>\n",
       "      <td>1</td>\n",
       "    </tr>\n",
       "    <tr>\n",
       "      <th>1332</th>\n",
       "      <td>18</td>\n",
       "      <td>39</td>\n",
       "      <td>1</td>\n",
       "    </tr>\n",
       "    <tr>\n",
       "      <th>1340</th>\n",
       "      <td>18</td>\n",
       "      <td>48</td>\n",
       "      <td>1</td>\n",
       "    </tr>\n",
       "    <tr>\n",
       "      <th>1576</th>\n",
       "      <td>21</td>\n",
       "      <td>50</td>\n",
       "      <td>1</td>\n",
       "    </tr>\n",
       "    <tr>\n",
       "      <th>1604</th>\n",
       "      <td>21</td>\n",
       "      <td>96</td>\n",
       "      <td>1</td>\n",
       "    </tr>\n",
       "    <tr>\n",
       "      <th>1683</th>\n",
       "      <td>22</td>\n",
       "      <td>99</td>\n",
       "      <td>1</td>\n",
       "    </tr>\n",
       "    <tr>\n",
       "      <th>1760</th>\n",
       "      <td>23</td>\n",
       "      <td>99</td>\n",
       "      <td>1</td>\n",
       "    </tr>\n",
       "    <tr>\n",
       "      <th>1912</th>\n",
       "      <td>25</td>\n",
       "      <td>96</td>\n",
       "      <td>1</td>\n",
       "    </tr>\n",
       "    <tr>\n",
       "      <th>2028</th>\n",
       "      <td>27</td>\n",
       "      <td>39</td>\n",
       "      <td>1</td>\n",
       "    </tr>\n",
       "    <tr>\n",
       "      <th>2222</th>\n",
       "      <td>29</td>\n",
       "      <td>99</td>\n",
       "      <td>1</td>\n",
       "    </tr>\n",
       "    <tr>\n",
       "      <th>2240</th>\n",
       "      <td>30</td>\n",
       "      <td>19</td>\n",
       "      <td>1</td>\n",
       "    </tr>\n",
       "    <tr>\n",
       "      <th>2464</th>\n",
       "      <td>33</td>\n",
       "      <td>27</td>\n",
       "      <td>1</td>\n",
       "    </tr>\n",
       "    <tr>\n",
       "      <th>2484</th>\n",
       "      <td>33</td>\n",
       "      <td>71</td>\n",
       "      <td>1</td>\n",
       "    </tr>\n",
       "    <tr>\n",
       "      <th>2563</th>\n",
       "      <td>34</td>\n",
       "      <td>78</td>\n",
       "      <td>1</td>\n",
       "    </tr>\n",
       "    <tr>\n",
       "      <th>2679</th>\n",
       "      <td>36</td>\n",
       "      <td>29</td>\n",
       "      <td>1</td>\n",
       "    </tr>\n",
       "    <tr>\n",
       "      <th>2684</th>\n",
       "      <td>36</td>\n",
       "      <td>36</td>\n",
       "      <td>1</td>\n",
       "    </tr>\n",
       "    <tr>\n",
       "      <th>2698</th>\n",
       "      <td>36</td>\n",
       "      <td>71</td>\n",
       "      <td>1</td>\n",
       "    </tr>\n",
       "    <tr>\n",
       "      <th>2717</th>\n",
       "      <td>36</td>\n",
       "      <td>99</td>\n",
       "      <td>1</td>\n",
       "    </tr>\n",
       "    <tr>\n",
       "      <th>2811</th>\n",
       "      <td>38</td>\n",
       "      <td>35</td>\n",
       "      <td>1</td>\n",
       "    </tr>\n",
       "    <tr>\n",
       "      <th>2842</th>\n",
       "      <td>38</td>\n",
       "      <td>99</td>\n",
       "      <td>1</td>\n",
       "    </tr>\n",
       "    <tr>\n",
       "      <th>3101</th>\n",
       "      <td>42</td>\n",
       "      <td>34</td>\n",
       "      <td>1</td>\n",
       "    </tr>\n",
       "    <tr>\n",
       "      <th>3170</th>\n",
       "      <td>43</td>\n",
       "      <td>55</td>\n",
       "      <td>1</td>\n",
       "    </tr>\n",
       "    <tr>\n",
       "      <th>3224</th>\n",
       "      <td>44</td>\n",
       "      <td>34</td>\n",
       "      <td>1</td>\n",
       "    </tr>\n",
       "  </tbody>\n",
       "</table>\n",
       "</div>"
      ],
      "text/plain": [
       "      Store  Dept  counts\n",
       "211       3    78       1\n",
       "216       3    83       1\n",
       "264       4    39       1\n",
       "362       5    78       1\n",
       "512       7    78       1\n",
       "529       7    99       1\n",
       "738      10    77       1\n",
       "908      12    99       1\n",
       "949      13    43       1\n",
       "969      13    77       1\n",
       "1027     14    43       1\n",
       "1100     15    37       1\n",
       "1143     15    99       1\n",
       "1219     16    99       1\n",
       "1295     17    99       1\n",
       "1332     18    39       1\n",
       "1340     18    48       1\n",
       "1576     21    50       1\n",
       "1604     21    96       1\n",
       "1683     22    99       1\n",
       "1760     23    99       1\n",
       "1912     25    96       1\n",
       "2028     27    39       1\n",
       "2222     29    99       1\n",
       "2240     30    19       1\n",
       "2464     33    27       1\n",
       "2484     33    71       1\n",
       "2563     34    78       1\n",
       "2679     36    29       1\n",
       "2684     36    36       1\n",
       "2698     36    71       1\n",
       "2717     36    99       1\n",
       "2811     38    35       1\n",
       "2842     38    99       1\n",
       "3101     42    34       1\n",
       "3170     43    55       1\n",
       "3224     44    34       1"
      ]
     },
     "execution_count": 31,
     "metadata": {},
     "output_type": "execute_result"
    }
   ],
   "source": [
    "#find the ones wih only one sales record\n",
    "Weekly_sales_group[Weekly_sales_group['counts']==1]\n",
    "\n",
    "\n"
   ]
  },
  {
   "cell_type": "markdown",
   "id": "3c64f4ed",
   "metadata": {},
   "source": [
    "37 store-dept with only 1 sale record,  this may not be useful for sales prediction"
   ]
  },
  {
   "cell_type": "code",
   "execution_count": 32,
   "id": "f5db16c6",
   "metadata": {},
   "outputs": [
    {
     "data": {
      "text/plain": [
       "<AxesSubplot:title={'center':'num of depts in each store'}, ylabel='Store'>"
      ]
     },
     "execution_count": 32,
     "metadata": {},
     "output_type": "execute_result"
    },
    {
     "data": {
      "image/png": "[encoded data removed]",
      "text/plain": [
       "<Figure size 720x576 with 1 Axes>"
      ]
     },
     "metadata": {
      "needs_background": "light"
     },
     "output_type": "display_data"
    }
   ],
   "source": [
    "#find # of department in each store\n",
    "Weekly_sales_dept_num=Weekly_sales_group.groupby('Store').count()\n",
    "#Weekly_sales_dept_num.drop(columns=0, inplace=True)\n",
    "#Weekly_sales_dept_num.reset_index(inplace=True)\n",
    "Weekly_sales_dept_num.head()\n",
    "\n",
    "Weekly_sales_dept_num = Weekly_sales_dept_num.rename(columns = {'Store':'Store','Dept':'Dept_num'})\n",
    "Weekly_sales_dept_num.drop(['counts'], axis=1,inplace=True)\n",
    "Weekly_sales_dept_num.head()\n",
    "#x = Weekly_sales_dept_num.Store\n",
    "#y = Weekly_sales_dept_num.Dept_num\n",
    "\n",
    "#fig, ax = plt.subplots()\n",
    "#ax.barh(x,y)\n",
    "#plt.show()\n",
    "\n",
    "Weekly_sales_dept_num.plot(kind='barh',title='num of depts in each store',figsize=(10,8))"
   ]
  },
  {
   "cell_type": "markdown",
   "id": "2f9a22a6",
   "metadata": {},
   "source": [
    "Number of depts are relatively evenly distibuted among all the stores, #30,33, 36-38, 42-44 have less depts(~60) than the rest. majority stores have 72-80 depts"
   ]
  },
  {
   "cell_type": "code",
   "execution_count": 33,
   "id": "c4c82658",
   "metadata": {},
   "outputs": [
    {
     "data": {
      "image/png": "[encoded data removed]",
      "text/plain": [
       "<Figure size 432x288 with 1 Axes>"
      ]
     },
     "metadata": {
      "needs_background": "light"
     },
     "output_type": "display_data"
    },
    {
     "data": {
      "text/html": [
       "<div>\n",
       "<style scoped>\n",
       "    .dataframe tbody tr th:only-of-type {\n",
       "        vertical-align: middle;\n",
       "    }\n",
       "\n",
       "    .dataframe tbody tr th {\n",
       "        vertical-align: top;\n",
       "    }\n",
       "\n",
       "    .dataframe thead th {\n",
       "        text-align: right;\n",
       "    }\n",
       "</style>\n",
       "<table border=\"1\" class=\"dataframe\">\n",
       "  <thead>\n",
       "    <tr style=\"text-align: right;\">\n",
       "      <th></th>\n",
       "      <th>Dept</th>\n",
       "      <th>store_num</th>\n",
       "    </tr>\n",
       "  </thead>\n",
       "  <tbody>\n",
       "    <tr>\n",
       "      <th>57</th>\n",
       "      <td>65</td>\n",
       "      <td>1</td>\n",
       "    </tr>\n",
       "    <tr>\n",
       "      <th>41</th>\n",
       "      <td>43</td>\n",
       "      <td>5</td>\n",
       "    </tr>\n",
       "    <tr>\n",
       "      <th>37</th>\n",
       "      <td>39</td>\n",
       "      <td>5</td>\n",
       "    </tr>\n",
       "    <tr>\n",
       "      <th>48</th>\n",
       "      <td>50</td>\n",
       "      <td>14</td>\n",
       "    </tr>\n",
       "    <tr>\n",
       "      <th>35</th>\n",
       "      <td>37</td>\n",
       "      <td>20</td>\n",
       "    </tr>\n",
       "    <tr>\n",
       "      <th>46</th>\n",
       "      <td>48</td>\n",
       "      <td>25</td>\n",
       "    </tr>\n",
       "    <tr>\n",
       "      <th>54</th>\n",
       "      <td>58</td>\n",
       "      <td>34</td>\n",
       "    </tr>\n",
       "    <tr>\n",
       "      <th>80</th>\n",
       "      <td>99</td>\n",
       "      <td>37</td>\n",
       "    </tr>\n",
       "    <tr>\n",
       "      <th>43</th>\n",
       "      <td>45</td>\n",
       "      <td>37</td>\n",
       "    </tr>\n",
       "    <tr>\n",
       "      <th>49</th>\n",
       "      <td>51</td>\n",
       "      <td>37</td>\n",
       "    </tr>\n",
       "    <tr>\n",
       "      <th>51</th>\n",
       "      <td>54</td>\n",
       "      <td>37</td>\n",
       "    </tr>\n",
       "    <tr>\n",
       "      <th>28</th>\n",
       "      <td>30</td>\n",
       "      <td>37</td>\n",
       "    </tr>\n",
       "    <tr>\n",
       "      <th>63</th>\n",
       "      <td>78</td>\n",
       "      <td>37</td>\n",
       "    </tr>\n",
       "    <tr>\n",
       "      <th>62</th>\n",
       "      <td>77</td>\n",
       "      <td>37</td>\n",
       "    </tr>\n",
       "    <tr>\n",
       "      <th>45</th>\n",
       "      <td>47</td>\n",
       "      <td>37</td>\n",
       "    </tr>\n",
       "    <tr>\n",
       "      <th>17</th>\n",
       "      <td>19</td>\n",
       "      <td>38</td>\n",
       "    </tr>\n",
       "    <tr>\n",
       "      <th>34</th>\n",
       "      <td>36</td>\n",
       "      <td>39</td>\n",
       "    </tr>\n",
       "    <tr>\n",
       "      <th>33</th>\n",
       "      <td>35</td>\n",
       "      <td>39</td>\n",
       "    </tr>\n",
       "    <tr>\n",
       "      <th>27</th>\n",
       "      <td>29</td>\n",
       "      <td>40</td>\n",
       "    </tr>\n",
       "    <tr>\n",
       "      <th>39</th>\n",
       "      <td>41</td>\n",
       "      <td>42</td>\n",
       "    </tr>\n",
       "  </tbody>\n",
       "</table>\n",
       "</div>"
      ],
      "text/plain": [
       "    Dept  store_num\n",
       "57    65          1\n",
       "41    43          5\n",
       "37    39          5\n",
       "48    50         14\n",
       "35    37         20\n",
       "46    48         25\n",
       "54    58         34\n",
       "80    99         37\n",
       "43    45         37\n",
       "49    51         37\n",
       "51    54         37\n",
       "28    30         37\n",
       "63    78         37\n",
       "62    77         37\n",
       "45    47         37\n",
       "17    19         38\n",
       "34    36         39\n",
       "33    35         39\n",
       "27    29         40\n",
       "39    41         42"
      ]
     },
     "execution_count": 33,
     "metadata": {},
     "output_type": "execute_result"
    }
   ],
   "source": [
    "#find out # of stores for each department \n",
    "Weekly_sales_store_num=Weekly_sales_group.groupby('Dept').count()\n",
    "\n",
    "\n",
    "Weekly_sales_store_num.reset_index(inplace=True)\n",
    "\n",
    "Weekly_sales_store_num.rename(columns = {'counts':'store_num'},inplace=True)\n",
    "Weekly_sales_store_num.drop(['Store'], axis=1,inplace=True)\n",
    "Weekly_sales_store_num.head()\n",
    "x = Weekly_sales_store_num.Dept\n",
    "y = Weekly_sales_store_num.store_num\n",
    "\n",
    "fig, ax = plt.subplots()\n",
    "ax.bar(x,y)\n",
    "plt.show()\n",
    "Weekly_sales_store_num.sort_values('store_num',ascending=True).head(20)\n",
    "#Weekly_sales_store_num.plot(kind='barh',title='num of stores for each dept',figsize=(10,8))"
   ]
  },
  {
   "cell_type": "markdown",
   "id": "b1238182",
   "metadata": {},
   "source": [
    "total depts are 81, dept 65, 43 and 39 has least number of stores, these depts may be not as popular as other depts"
   ]
  },
  {
   "cell_type": "code",
   "execution_count": null,
   "id": "c62b236f",
   "metadata": {},
   "outputs": [],
   "source": [
    "#find store_department where Counts(sales record)<52(1year), select store_department where Counts(sales record)<52(1year), recount # of department in each store\n",
    "\n",
    "Store_list=Weekly_sales_dept[Weekly_sales_dept.Counts<52]['Store'].to_list()\n",
    "print(Counter(Store_list))\n",
    "Weekly_sales_FNL=Weekly_sales_dept[Weekly_sales_dept.Counts>=52]\n",
    "Weekly_sales_dept_num_FNL=Weekly_sales_FNL.groupby('Store').count()\n",
    "Weekly_sales_dept_num_FNL = Weekly_sales_dept_num_FNL.rename(columns = {'Store':'Store','Dept':'Dept_num_FNL'})\n",
    "Weekly_sales_dept_num_FNL=Weekly_sales_dept_num_FNL.iloc[:,:1]\n",
    "\n",
    "Weekly_sales_dept_num_FNL.reset_index(inplace=True)\n",
    "Weekly_sales_dept_num_FNL.head()\n",
    "#\n",
    "#x = Weekly_sales_dept_num.Store\n",
    "#y = Weekly_sales_dept_num.Dept_num\n",
    "\n",
    "#fig, ax = plt.subplots()\n",
    "#ax.barh(x,y)\n",
    "#plt.show()\n",
    "\n",
    "Weekly_sales_dept_num_FNL['Dept_num_FNL'].plot(kind='barh',title='num of depts in each store with records more than 1 year',figsize=(10,8))\n",
    "\n",
    "pd.concat([Weekly_sales_dept_num,Weekly_sales_dept_num_FNL],axis=1)"
   ]
  },
  {
   "cell_type": "markdown",
   "id": "75d69a4b",
   "metadata": {},
   "source": [
    "## check the sales trend for each store/dept"
   ]
  },
  {
   "cell_type": "code",
   "execution_count": 34,
   "id": "7f26a437",
   "metadata": {},
   "outputs": [],
   "source": [
    "#convert date col to datetime format\n",
    "Weekly_sales.Date=pd.to_datetime(Weekly_sales.Date)"
   ]
  },
  {
   "cell_type": "code",
   "execution_count": null,
   "id": "ce866814",
   "metadata": {},
   "outputs": [],
   "source": [
    "Weekly_sales_S1_D1=Weekly_sales[(Weekly_sales['Store']==1) & (Weekly_sales['Dept']==1)]"
   ]
  },
  {
   "cell_type": "code",
   "execution_count": null,
   "id": "e08f7fda",
   "metadata": {},
   "outputs": [],
   "source": [
    "Weekly_sales_S1_D23=Weekly_sales[(Weekly_sales['Store']==1) & (Weekly_sales['Dept']==23)]"
   ]
  },
  {
   "cell_type": "code",
   "execution_count": null,
   "id": "036b2ee9",
   "metadata": {},
   "outputs": [],
   "source": [
    "Weekly_sales_S1_D12=Weekly_sales[(Weekly_sales['Store']==1) & (Weekly_sales['Dept']==12)]"
   ]
  },
  {
   "cell_type": "code",
   "execution_count": null,
   "id": "bc3c0c58",
   "metadata": {},
   "outputs": [],
   "source": [
    "Weekly_sales_S1_D30=Weekly_sales[(Weekly_sales['Store']==1) & (Weekly_sales['Dept']==30)]"
   ]
  },
  {
   "cell_type": "code",
   "execution_count": null,
   "id": "058bab4e",
   "metadata": {},
   "outputs": [],
   "source": [
    "\n",
    "#select reords for store 1&dept1 in weekly_sales to show the sales trend\n",
    "fig, ax = plt.subplots(4, 1,figsize=(10,15))\n",
    "\n",
    "Weekly_sales_S1_D1.plot(x='Date', y='Weekly_Sales', kind='line', ax=ax[0])\n",
    "ax[0].set_title('Store#1/Dept#1')\n",
    "ax[0].set_xlabel('Date')\n",
    "ax[0].set_ylabel('Weekly_Sales')\n",
    "\n",
    "\n",
    "Weekly_sales_S1_D12.plot(x='Date', y='Weekly_Sales', kind='line', ax=ax[1])\n",
    "ax[1].set_title('Store#1/Dept#12')\n",
    "ax[1].set_xlabel('Date')\n",
    "ax[1].set_ylabel('Weekly_Sales')\n",
    "\n",
    "Weekly_sales_S1_D23.plot(x='Date', y='Weekly_Sales', kind='line', ax=ax[2])\n",
    "ax[2].set_title('Store#1/Dept#23')\n",
    "ax[2].set_xlabel('Date')\n",
    "ax[2].set_ylabel('Weekly_Sales')\n",
    "\n",
    "\n",
    "Weekly_sales_S1_D30.plot(x='Date', y='Weekly_Sales', kind='line', ax=ax[3])\n",
    "ax[3].set_title('Store#1/Dept#30')\n",
    "ax[3].set_xlabel('Date')\n",
    "ax[3].set_ylabel('Weekly_Sales')\n",
    "\n",
    "\n",
    "#Give the subplots a little \"breathing room\" with a wspace of 0.5\n",
    "plt.subplots_adjust(wspace=1);\n"
   ]
  },
  {
   "cell_type": "code",
   "execution_count": null,
   "id": "e76d064e",
   "metadata": {},
   "outputs": [],
   "source": [
    "Weekly_sales_S13_D1=Weekly_sales[(Weekly_sales['Store']==13) & (Weekly_sales['Dept']==1)]"
   ]
  },
  {
   "cell_type": "code",
   "execution_count": null,
   "id": "969e2596",
   "metadata": {},
   "outputs": [],
   "source": [
    "Weekly_sales_S13_D12=Weekly_sales[(Weekly_sales['Store']==13) & (Weekly_sales['Dept']==12)]"
   ]
  },
  {
   "cell_type": "code",
   "execution_count": null,
   "id": "a9229e95",
   "metadata": {},
   "outputs": [],
   "source": [
    "Weekly_sales_S13_D4=Weekly_sales[(Weekly_sales['Store']==13) & (Weekly_sales['Dept']==4)]"
   ]
  },
  {
   "cell_type": "code",
   "execution_count": null,
   "id": "6a57b937",
   "metadata": {},
   "outputs": [],
   "source": [
    "Weekly_sales_S13_D30=Weekly_sales[(Weekly_sales['Store']==13) & (Weekly_sales['Dept']==30)]"
   ]
  },
  {
   "cell_type": "code",
   "execution_count": null,
   "id": "a7a8d607",
   "metadata": {},
   "outputs": [],
   "source": [
    "#select reords for store 1&dept 1, store 13&dept 1, store 13&dept 12  in weekly_sales to show the sales trend\n",
    "\n",
    "fig, ax = plt.subplots(4, 1,figsize=(10,15))\n",
    "\n",
    "Weekly_sales_S13_D1.plot(x='Date', y='Weekly_Sales', kind='line', ax=ax[0])\n",
    "ax[0].set_title('Store#13/Dept#1')\n",
    "ax[0].set_xlabel('Date')\n",
    "ax[0].set_ylabel('Weekly_Sales')\n",
    "\n",
    "\n",
    "Weekly_sales_S13_D12.plot(x='Date', y='Weekly_Sales', kind='line', ax=ax[1])\n",
    "ax[1].set_title('Store#13/Dept#12')\n",
    "ax[1].set_xlabel('Date')\n",
    "ax[1].set_ylabel('Weekly_Sales')\n",
    "\n",
    "Weekly_sales_S13_D4.plot(x='Date', y='Weekly_Sales', kind='line', ax=ax[2])\n",
    "ax[2].set_title('Store#13/Dept#4')\n",
    "ax[2].set_xlabel('Date')\n",
    "ax[2].set_ylabel('Weekly_Sales')\n",
    "\n",
    "\n",
    "Weekly_sales_S13_D30.plot(x='Date', y='Weekly_Sales', kind='line', ax=ax[3])\n",
    "ax[3].set_title('Store#13/Dept#30')\n",
    "ax[3].set_xlabel('Date')\n",
    "ax[3].set_ylabel('Weekly_Sales')\n",
    "\n",
    "\n",
    "#Give the subplots a little \"breathing room\" with a wspace of 0.5\n",
    "plt.subplots_adjust(wspace=1);\n",
    "#You're encouraged to explore a few different figure sizes, orientations, and spacing here\n",
    "# as the importance of easy-to-read and informative figures is frequently understated\n",
    "# and you will find the ability to tweak figures invaluable later on"
   ]
  },
  {
   "cell_type": "markdown",
   "id": "0d38d3a6",
   "metadata": {},
   "source": [
    "Apparently, each store-dept has its own trend"
   ]
  },
  {
   "cell_type": "markdown",
   "id": "a0836a06",
   "metadata": {},
   "source": [
    "## 2.2.5  weekly sales trend groupby store type"
   ]
  },
  {
   "cell_type": "code",
   "execution_count": 34,
   "id": "92ea298c",
   "metadata": {},
   "outputs": [
    {
     "data": {
      "text/html": [
       "<div>\n",
       "<style scoped>\n",
       "    .dataframe tbody tr th:only-of-type {\n",
       "        vertical-align: middle;\n",
       "    }\n",
       "\n",
       "    .dataframe tbody tr th {\n",
       "        vertical-align: top;\n",
       "    }\n",
       "\n",
       "    .dataframe thead th {\n",
       "        text-align: right;\n",
       "    }\n",
       "</style>\n",
       "<table border=\"1\" class=\"dataframe\">\n",
       "  <thead>\n",
       "    <tr style=\"text-align: right;\">\n",
       "      <th></th>\n",
       "      <th>Store</th>\n",
       "      <th>Weekly_Sales</th>\n",
       "    </tr>\n",
       "  </thead>\n",
       "  <tbody>\n",
       "    <tr>\n",
       "      <th>0</th>\n",
       "      <td>1</td>\n",
       "      <td>21710.543621</td>\n",
       "    </tr>\n",
       "    <tr>\n",
       "      <th>1</th>\n",
       "      <td>2</td>\n",
       "      <td>26898.070031</td>\n",
       "    </tr>\n",
       "    <tr>\n",
       "      <th>2</th>\n",
       "      <td>3</td>\n",
       "      <td>6373.033983</td>\n",
       "    </tr>\n",
       "    <tr>\n",
       "      <th>3</th>\n",
       "      <td>4</td>\n",
       "      <td>29161.210415</td>\n",
       "    </tr>\n",
       "    <tr>\n",
       "      <th>4</th>\n",
       "      <td>5</td>\n",
       "      <td>5053.415813</td>\n",
       "    </tr>\n",
       "  </tbody>\n",
       "</table>\n",
       "</div>"
      ],
      "text/plain": [
       "   Store  Weekly_Sales\n",
       "0      1  21710.543621\n",
       "1      2  26898.070031\n",
       "2      3   6373.033983\n",
       "3      4  29161.210415\n",
       "4      5   5053.415813"
      ]
     },
     "execution_count": 34,
     "metadata": {},
     "output_type": "execute_result"
    }
   ],
   "source": [
    "#get mean weekly_sales groupby store in weekly_sales df\n",
    "Weekly_sales_store=Weekly_sales.groupby('Store', as_index=False)['Weekly_Sales'].mean()\n",
    "Weekly_sales_store.head()\n",
    "\n"
   ]
  },
  {
   "cell_type": "code",
   "execution_count": 35,
   "id": "2c90d516",
   "metadata": {},
   "outputs": [
    {
     "data": {
      "text/html": [
       "<div>\n",
       "<style scoped>\n",
       "    .dataframe tbody tr th:only-of-type {\n",
       "        vertical-align: middle;\n",
       "    }\n",
       "\n",
       "    .dataframe tbody tr th {\n",
       "        vertical-align: top;\n",
       "    }\n",
       "\n",
       "    .dataframe thead th {\n",
       "        text-align: right;\n",
       "    }\n",
       "</style>\n",
       "<table border=\"1\" class=\"dataframe\">\n",
       "  <thead>\n",
       "    <tr style=\"text-align: right;\">\n",
       "      <th></th>\n",
       "      <th>Store</th>\n",
       "      <th>Type</th>\n",
       "      <th>Size</th>\n",
       "    </tr>\n",
       "  </thead>\n",
       "  <tbody>\n",
       "    <tr>\n",
       "      <th>0</th>\n",
       "      <td>1</td>\n",
       "      <td>A</td>\n",
       "      <td>151315</td>\n",
       "    </tr>\n",
       "    <tr>\n",
       "      <th>1</th>\n",
       "      <td>2</td>\n",
       "      <td>A</td>\n",
       "      <td>202307</td>\n",
       "    </tr>\n",
       "    <tr>\n",
       "      <th>2</th>\n",
       "      <td>3</td>\n",
       "      <td>B</td>\n",
       "      <td>37392</td>\n",
       "    </tr>\n",
       "    <tr>\n",
       "      <th>3</th>\n",
       "      <td>4</td>\n",
       "      <td>A</td>\n",
       "      <td>205863</td>\n",
       "    </tr>\n",
       "    <tr>\n",
       "      <th>4</th>\n",
       "      <td>5</td>\n",
       "      <td>B</td>\n",
       "      <td>34875</td>\n",
       "    </tr>\n",
       "  </tbody>\n",
       "</table>\n",
       "</div>"
      ],
      "text/plain": [
       "   Store Type    Size\n",
       "0      1    A  151315\n",
       "1      2    A  202307\n",
       "2      3    B   37392\n",
       "3      4    A  205863\n",
       "4      5    B   34875"
      ]
     },
     "execution_count": 35,
     "metadata": {},
     "output_type": "execute_result"
    }
   ],
   "source": [
    "stores.head()"
   ]
  },
  {
   "cell_type": "code",
   "execution_count": 36,
   "id": "24ef743a",
   "metadata": {},
   "outputs": [
    {
     "data": {
      "text/html": [
       "<div>\n",
       "<style scoped>\n",
       "    .dataframe tbody tr th:only-of-type {\n",
       "        vertical-align: middle;\n",
       "    }\n",
       "\n",
       "    .dataframe tbody tr th {\n",
       "        vertical-align: top;\n",
       "    }\n",
       "\n",
       "    .dataframe thead th {\n",
       "        text-align: right;\n",
       "    }\n",
       "</style>\n",
       "<table border=\"1\" class=\"dataframe\">\n",
       "  <thead>\n",
       "    <tr style=\"text-align: right;\">\n",
       "      <th></th>\n",
       "      <th>Store</th>\n",
       "      <th>Weekly_Sales</th>\n",
       "      <th>Type</th>\n",
       "      <th>Size</th>\n",
       "    </tr>\n",
       "  </thead>\n",
       "  <tbody>\n",
       "    <tr>\n",
       "      <th>0</th>\n",
       "      <td>1</td>\n",
       "      <td>21710.543621</td>\n",
       "      <td>A</td>\n",
       "      <td>151315</td>\n",
       "    </tr>\n",
       "    <tr>\n",
       "      <th>1</th>\n",
       "      <td>2</td>\n",
       "      <td>26898.070031</td>\n",
       "      <td>A</td>\n",
       "      <td>202307</td>\n",
       "    </tr>\n",
       "    <tr>\n",
       "      <th>2</th>\n",
       "      <td>3</td>\n",
       "      <td>6373.033983</td>\n",
       "      <td>B</td>\n",
       "      <td>37392</td>\n",
       "    </tr>\n",
       "    <tr>\n",
       "      <th>3</th>\n",
       "      <td>4</td>\n",
       "      <td>29161.210415</td>\n",
       "      <td>A</td>\n",
       "      <td>205863</td>\n",
       "    </tr>\n",
       "    <tr>\n",
       "      <th>4</th>\n",
       "      <td>5</td>\n",
       "      <td>5053.415813</td>\n",
       "      <td>B</td>\n",
       "      <td>34875</td>\n",
       "    </tr>\n",
       "  </tbody>\n",
       "</table>\n",
       "</div>"
      ],
      "text/plain": [
       "   Store  Weekly_Sales Type    Size\n",
       "0      1  21710.543621    A  151315\n",
       "1      2  26898.070031    A  202307\n",
       "2      3   6373.033983    B   37392\n",
       "3      4  29161.210415    A  205863\n",
       "4      5   5053.415813    B   34875"
      ]
     },
     "execution_count": 36,
     "metadata": {},
     "output_type": "execute_result"
    }
   ],
   "source": [
    "#merge the store type/size with mean weekly_sales for each store\n",
    "Weekly_sales_store_type=pd.merge(Weekly_sales_store,stores, how='left', on='Store')\n",
    "Weekly_sales_store_type.head()"
   ]
  },
  {
   "cell_type": "code",
   "execution_count": 39,
   "id": "6d5d86ba",
   "metadata": {},
   "outputs": [
    {
     "data": {
      "image/png": "[encoded data removed]",
      "text/plain": [
       "<Figure size 864x576 with 1 Axes>"
      ]
     },
     "metadata": {
      "needs_background": "light"
     },
     "output_type": "display_data"
    }
   ],
   "source": [
    "#plot mean weekly_sales for each store and colormap it based on types of the store\n",
    "plt.subplots(figsize=(12, 8))\n",
    "sns.scatterplot(x='Store', y='Weekly_Sales', hue='Type', data=Weekly_sales_store_type)\n",
    "plt.ylabel('Weekly_Sales ($)')\n",
    "plt.xlabel('Store');"
   ]
  },
  {
   "cell_type": "markdown",
   "id": "d58f28e7",
   "metadata": {},
   "source": [
    "there seem to be a trend, stores of type A have highest weekly sales, stores of type C have lowest weekly sales"
   ]
  },
  {
   "cell_type": "code",
   "execution_count": 46,
   "id": "35fb9213",
   "metadata": {},
   "outputs": [
    {
     "data": {
      "text/html": [
       "<div>\n",
       "<style scoped>\n",
       "    .dataframe tbody tr th:only-of-type {\n",
       "        vertical-align: middle;\n",
       "    }\n",
       "\n",
       "    .dataframe tbody tr th {\n",
       "        vertical-align: top;\n",
       "    }\n",
       "\n",
       "    .dataframe thead th {\n",
       "        text-align: right;\n",
       "    }\n",
       "</style>\n",
       "<table border=\"1\" class=\"dataframe\">\n",
       "  <thead>\n",
       "    <tr style=\"text-align: right;\">\n",
       "      <th></th>\n",
       "      <th>Store</th>\n",
       "      <th>Dept</th>\n",
       "      <th>Date</th>\n",
       "      <th>Weekly_Sales</th>\n",
       "      <th>IsHoliday</th>\n",
       "      <th>Type</th>\n",
       "      <th>Size</th>\n",
       "    </tr>\n",
       "  </thead>\n",
       "  <tbody>\n",
       "    <tr>\n",
       "      <th>0</th>\n",
       "      <td>1</td>\n",
       "      <td>1</td>\n",
       "      <td>2010-02-05</td>\n",
       "      <td>24924.50</td>\n",
       "      <td>False</td>\n",
       "      <td>A</td>\n",
       "      <td>151315</td>\n",
       "    </tr>\n",
       "    <tr>\n",
       "      <th>1</th>\n",
       "      <td>1</td>\n",
       "      <td>1</td>\n",
       "      <td>2010-02-12</td>\n",
       "      <td>46039.49</td>\n",
       "      <td>True</td>\n",
       "      <td>A</td>\n",
       "      <td>151315</td>\n",
       "    </tr>\n",
       "    <tr>\n",
       "      <th>2</th>\n",
       "      <td>1</td>\n",
       "      <td>1</td>\n",
       "      <td>2010-02-19</td>\n",
       "      <td>41595.55</td>\n",
       "      <td>False</td>\n",
       "      <td>A</td>\n",
       "      <td>151315</td>\n",
       "    </tr>\n",
       "    <tr>\n",
       "      <th>3</th>\n",
       "      <td>1</td>\n",
       "      <td>1</td>\n",
       "      <td>2010-02-26</td>\n",
       "      <td>19403.54</td>\n",
       "      <td>False</td>\n",
       "      <td>A</td>\n",
       "      <td>151315</td>\n",
       "    </tr>\n",
       "    <tr>\n",
       "      <th>4</th>\n",
       "      <td>1</td>\n",
       "      <td>1</td>\n",
       "      <td>2010-03-05</td>\n",
       "      <td>21827.90</td>\n",
       "      <td>False</td>\n",
       "      <td>A</td>\n",
       "      <td>151315</td>\n",
       "    </tr>\n",
       "  </tbody>\n",
       "</table>\n",
       "</div>"
      ],
      "text/plain": [
       "   Store  Dept        Date  Weekly_Sales  IsHoliday Type    Size\n",
       "0      1     1  2010-02-05      24924.50      False    A  151315\n",
       "1      1     1  2010-02-12      46039.49       True    A  151315\n",
       "2      1     1  2010-02-19      41595.55      False    A  151315\n",
       "3      1     1  2010-02-26      19403.54      False    A  151315\n",
       "4      1     1  2010-03-05      21827.90      False    A  151315"
      ]
     },
     "execution_count": 46,
     "metadata": {},
     "output_type": "execute_result"
    }
   ],
   "source": [
    "#merge stores df with weekly_sales df\n",
    "Weekly_sales_type=pd.merge(Weekly_sales,stores, how='left', on='Store')\n",
    "Weekly_sales_type.head()"
   ]
  },
  {
   "cell_type": "code",
   "execution_count": 47,
   "id": "723544c5",
   "metadata": {},
   "outputs": [
    {
     "data": {
      "text/plain": [
       "Text(0.5, 0, 'Store')"
      ]
     },
     "execution_count": 47,
     "metadata": {},
     "output_type": "execute_result"
    },
    {
     "data": {
      "image/png": "[encoded data removed]",
      "text/plain": [
       "<Figure size 864x576 with 1 Axes>"
      ]
     },
     "metadata": {
      "needs_background": "light"
     },
     "output_type": "display_data"
    }
   ],
   "source": [
    "#plot weekly sales distribution for each store, comparing between different store types\n",
    "plt.subplots(figsize=(12, 8))\n",
    "sns.boxplot(x='Store', y='Weekly_Sales', hue='Type', showfliers=False, data=Weekly_sales_type)\n",
    "plt.ylabel('Weekly_Sales ($)')\n",
    "plt.xlabel('Store')"
   ]
  },
  {
   "cell_type": "markdown",
   "id": "88961a48",
   "metadata": {},
   "source": [
    "## 2.2.6 weekly sales trend holiday vs non-holiday "
   ]
  },
  {
   "cell_type": "code",
   "execution_count": 42,
   "id": "f44eb225",
   "metadata": {},
   "outputs": [
    {
     "data": {
      "text/plain": [
       "Text(0.5, 0, 'Store')"
      ]
     },
     "execution_count": 42,
     "metadata": {},
     "output_type": "execute_result"
    },
    {
     "data": {
      "image/png": "[encoded data removed]",
      "text/plain": [
       "<Figure size 864x576 with 1 Axes>"
      ]
     },
     "metadata": {
      "needs_background": "light"
     },
     "output_type": "display_data"
    }
   ],
   "source": [
    "#plot weekly sales distribution for each store, comparing holiday with non-holidays\n",
    "plt.subplots(figsize=(12, 8))\n",
    "sns.boxplot(x='Store', y='Weekly_Sales', hue='IsHoliday', showfliers=False, data=Weekly_sales)\n",
    "plt.ylabel('Weekly_Sales ($)')\n",
    "plt.xlabel('Store')\n",
    "#plt.yscale('log')\n",
    "#plt.ylim(0,30000)\n",
    "\n"
   ]
  },
  {
   "cell_type": "markdown",
   "id": "64159142",
   "metadata": {},
   "source": [
    "for majority stores, median value of weekly sales on holidays is slightly higher than that on non-holidays. Store 13, 16,25,32,37 are very close. store 17 has opposite trend, non-holidays are higher than holidays"
   ]
  },
  {
   "cell_type": "code",
   "execution_count": 44,
   "id": "580328e1",
   "metadata": {},
   "outputs": [
    {
     "data": {
      "text/plain": [
       "Text(0.5, 0, 'Dept')"
      ]
     },
     "execution_count": 44,
     "metadata": {},
     "output_type": "execute_result"
    },
    {
     "data": {
      "image/png": "[encoded data removed]",
      "text/plain": [
       "<Figure size 1800x720 with 1 Axes>"
      ]
     },
     "metadata": {
      "needs_background": "light"
     },
     "output_type": "display_data"
    }
   ],
   "source": [
    "#plot weekly sales distribution for each dept, comparing holiday with non-holidays\n",
    "plt.subplots(figsize=(25, 10))\n",
    "sns.boxplot(x='Dept', y='Weekly_Sales', hue='IsHoliday', showfliers=False,data=Weekly_sales)\n",
    "plt.ylabel('Weekly_Sales ($)')\n",
    "plt.xlabel('Dept')\n",
    "#plt.yscale('log')\n",
    "#plt.ylim(1000,100000)"
   ]
  },
  {
   "cell_type": "markdown",
   "id": "0f82fb72",
   "metadata": {},
   "source": [
    "for different dept, there is no clear trend of higher weekly sales on holiday"
   ]
  },
  {
   "cell_type": "markdown",
   "id": "2f5ac5e6",
   "metadata": {},
   "source": [
    "## 2.3 numerical variables"
   ]
  },
  {
   "cell_type": "code",
   "execution_count": 48,
   "id": "d660469f",
   "metadata": {},
   "outputs": [
    {
     "data": {
      "text/html": [
       "<div>\n",
       "<style scoped>\n",
       "    .dataframe tbody tr th:only-of-type {\n",
       "        vertical-align: middle;\n",
       "    }\n",
       "\n",
       "    .dataframe tbody tr th {\n",
       "        vertical-align: top;\n",
       "    }\n",
       "\n",
       "    .dataframe thead th {\n",
       "        text-align: right;\n",
       "    }\n",
       "</style>\n",
       "<table border=\"1\" class=\"dataframe\">\n",
       "  <thead>\n",
       "    <tr style=\"text-align: right;\">\n",
       "      <th></th>\n",
       "      <th>count</th>\n",
       "      <th>mean</th>\n",
       "      <th>std</th>\n",
       "      <th>min</th>\n",
       "      <th>25%</th>\n",
       "      <th>50%</th>\n",
       "      <th>75%</th>\n",
       "      <th>max</th>\n",
       "    </tr>\n",
       "  </thead>\n",
       "  <tbody>\n",
       "    <tr>\n",
       "      <th>Store</th>\n",
       "      <td>8190.0</td>\n",
       "      <td>23.000000</td>\n",
       "      <td>12.987966</td>\n",
       "      <td>1.000</td>\n",
       "      <td>12.000000</td>\n",
       "      <td>23.000000</td>\n",
       "      <td>34.000000</td>\n",
       "      <td>45.000000</td>\n",
       "    </tr>\n",
       "    <tr>\n",
       "      <th>Temperature</th>\n",
       "      <td>8190.0</td>\n",
       "      <td>59.356198</td>\n",
       "      <td>18.678607</td>\n",
       "      <td>-7.290</td>\n",
       "      <td>45.902500</td>\n",
       "      <td>60.710000</td>\n",
       "      <td>73.880000</td>\n",
       "      <td>101.950000</td>\n",
       "    </tr>\n",
       "    <tr>\n",
       "      <th>Fuel_Price</th>\n",
       "      <td>8190.0</td>\n",
       "      <td>3.405992</td>\n",
       "      <td>0.431337</td>\n",
       "      <td>2.472</td>\n",
       "      <td>3.041000</td>\n",
       "      <td>3.513000</td>\n",
       "      <td>3.743000</td>\n",
       "      <td>4.468000</td>\n",
       "    </tr>\n",
       "    <tr>\n",
       "      <th>MarkDown1</th>\n",
       "      <td>4032.0</td>\n",
       "      <td>7032.371786</td>\n",
       "      <td>9262.747448</td>\n",
       "      <td>-2781.450</td>\n",
       "      <td>1577.532500</td>\n",
       "      <td>4743.580000</td>\n",
       "      <td>8923.310000</td>\n",
       "      <td>103184.980000</td>\n",
       "    </tr>\n",
       "    <tr>\n",
       "      <th>MarkDown2</th>\n",
       "      <td>2921.0</td>\n",
       "      <td>3384.176594</td>\n",
       "      <td>8793.583016</td>\n",
       "      <td>-265.760</td>\n",
       "      <td>68.880000</td>\n",
       "      <td>364.570000</td>\n",
       "      <td>2153.350000</td>\n",
       "      <td>104519.540000</td>\n",
       "    </tr>\n",
       "    <tr>\n",
       "      <th>MarkDown3</th>\n",
       "      <td>3613.0</td>\n",
       "      <td>1760.100180</td>\n",
       "      <td>11276.462208</td>\n",
       "      <td>-179.260</td>\n",
       "      <td>6.600000</td>\n",
       "      <td>36.260000</td>\n",
       "      <td>163.150000</td>\n",
       "      <td>149483.310000</td>\n",
       "    </tr>\n",
       "    <tr>\n",
       "      <th>MarkDown4</th>\n",
       "      <td>3464.0</td>\n",
       "      <td>3292.935886</td>\n",
       "      <td>6792.329861</td>\n",
       "      <td>0.220</td>\n",
       "      <td>304.687500</td>\n",
       "      <td>1176.425000</td>\n",
       "      <td>3310.007500</td>\n",
       "      <td>67474.850000</td>\n",
       "    </tr>\n",
       "    <tr>\n",
       "      <th>MarkDown5</th>\n",
       "      <td>4050.0</td>\n",
       "      <td>4132.216422</td>\n",
       "      <td>13086.690278</td>\n",
       "      <td>-185.170</td>\n",
       "      <td>1440.827500</td>\n",
       "      <td>2727.135000</td>\n",
       "      <td>4832.555000</td>\n",
       "      <td>771448.100000</td>\n",
       "    </tr>\n",
       "    <tr>\n",
       "      <th>CPI</th>\n",
       "      <td>7605.0</td>\n",
       "      <td>172.460809</td>\n",
       "      <td>39.738346</td>\n",
       "      <td>126.064</td>\n",
       "      <td>132.364839</td>\n",
       "      <td>182.764003</td>\n",
       "      <td>213.932412</td>\n",
       "      <td>228.976456</td>\n",
       "    </tr>\n",
       "    <tr>\n",
       "      <th>Unemployment</th>\n",
       "      <td>7605.0</td>\n",
       "      <td>7.826821</td>\n",
       "      <td>1.877259</td>\n",
       "      <td>3.684</td>\n",
       "      <td>6.634000</td>\n",
       "      <td>7.806000</td>\n",
       "      <td>8.567000</td>\n",
       "      <td>14.313000</td>\n",
       "    </tr>\n",
       "  </tbody>\n",
       "</table>\n",
       "</div>"
      ],
      "text/plain": [
       "               count         mean           std       min          25%  \\\n",
       "Store         8190.0    23.000000     12.987966     1.000    12.000000   \n",
       "Temperature   8190.0    59.356198     18.678607    -7.290    45.902500   \n",
       "Fuel_Price    8190.0     3.405992      0.431337     2.472     3.041000   \n",
       "MarkDown1     4032.0  7032.371786   9262.747448 -2781.450  1577.532500   \n",
       "MarkDown2     2921.0  3384.176594   8793.583016  -265.760    68.880000   \n",
       "MarkDown3     3613.0  1760.100180  11276.462208  -179.260     6.600000   \n",
       "MarkDown4     3464.0  3292.935886   6792.329861     0.220   304.687500   \n",
       "MarkDown5     4050.0  4132.216422  13086.690278  -185.170  1440.827500   \n",
       "CPI           7605.0   172.460809     39.738346   126.064   132.364839   \n",
       "Unemployment  7605.0     7.826821      1.877259     3.684     6.634000   \n",
       "\n",
       "                      50%          75%            max  \n",
       "Store           23.000000    34.000000      45.000000  \n",
       "Temperature     60.710000    73.880000     101.950000  \n",
       "Fuel_Price       3.513000     3.743000       4.468000  \n",
       "MarkDown1     4743.580000  8923.310000  103184.980000  \n",
       "MarkDown2      364.570000  2153.350000  104519.540000  \n",
       "MarkDown3       36.260000   163.150000  149483.310000  \n",
       "MarkDown4     1176.425000  3310.007500   67474.850000  \n",
       "MarkDown5     2727.135000  4832.555000  771448.100000  \n",
       "CPI            182.764003   213.932412     228.976456  \n",
       "Unemployment     7.806000     8.567000      14.313000  "
      ]
     },
     "execution_count": 48,
     "metadata": {},
     "output_type": "execute_result"
    }
   ],
   "source": [
    "features.describe().T"
   ]
  },
  {
   "cell_type": "code",
   "execution_count": null,
   "id": "bab25474",
   "metadata": {},
   "outputs": [],
   "source": []
  }
 ],
 "metadata": {
  "kernelspec": {
   "display_name": "Python 3 (ipykernel)",
   "language": "python",
   "name": "python3"
  },
  "language_info": {
   "codemirror_mode": {
    "name": "ipython",
    "version": 3
   },
   "file_extension": ".py",
   "mimetype": "text/x-python",
   "name": "python",
   "nbconvert_exporter": "python",
   "pygments_lexer": "ipython3",
   "version": "3.9.12"
  }
 },
 "nbformat": 4,
 "nbformat_minor": 5
}
